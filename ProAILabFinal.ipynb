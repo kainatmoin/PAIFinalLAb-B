{
  "nbformat": 4,
  "nbformat_minor": 0,
  "metadata": {
    "colab": {
      "provenance": []
    },
    "kernelspec": {
      "name": "python3",
      "display_name": "Python 3"
    },
    "language_info": {
      "name": "python"
    }
  },
  "cells": [
    {
      "cell_type": "markdown",
      "source": [
        "Name: Kainat Moin\n",
        "Roll= 23-Ai-48\n",
        "final lab\n",
        "programming for Ai\n",
        "parctical lab B\n"
      ],
      "metadata": {
        "id": "jJG1CLUqqpxO"
      }
    },
    {
      "cell_type": "code",
      "execution_count": null,
      "metadata": {
        "id": "z4oavc8_qipW",
        "colab": {
          "base_uri": "https://localhost:8080/"
        },
        "outputId": "626d190a-9878-4ec7-8aa2-3835466e647d"
      },
      "outputs": [
        {
          "output_type": "stream",
          "name": "stdout",
          "text": [
            "   Hours_studied  Math_score Passed  Gender  ID  English_score\n",
            "0           15.6          57    Yes    Male   1             57\n",
            "1           11.4          65    Yes  Female   2             49\n",
            "2            6.4          83    Yes    Male   3             77\n",
            "3           12.0          73    Yes    Male   4             63\n",
            "4            7.1          49    Yes    Male   5             70\n"
          ]
        }
      ],
      "source": [
        "#practical lab B\n",
        "import pandas as pd\n",
        "\n",
        "# Load the data without header\n",
        "df = pd.read_csv('student_performance(in).csv', header=None)\n",
        "\n",
        "#new column names based on value patterns\n",
        "df.columns = [\"Hours_studied\", \"Math_score\", \"Passed\", \"Gender\", \"ID\", \"English_score\"]\n",
        "\n",
        "# Inspect the first 5 rows\n",
        "print(df.head())\n"
      ]
    },
    {
      "cell_type": "markdown",
      "source": [
        " one line justification  for each column  name  you chose\n",
        "\n",
        "\n",
        " Ans :Hours_studied – The first column contains decimal values like 15.6 and 11.4, which resemble the number of study hours per week.\n",
        "\n",
        "Math_score– The second column has integers typically in the 50–80 range, which fits common math exam scores.\n",
        "\n",
        "Passed – The third column only has \"Yes\", indicating a pass/fail status.\n",
        "\n",
        "Gender – The fourth column contains \"Male\" and \"Female\", clearly indicating the student's gender.\n",
        "\n",
        "ID – The fifth column contains unique integers in sequence (1, 2, 3...), indicating a student ID.\n",
        "\n",
        "English_Score – The sixth column has numeric values similar to test scores, likely for the English subject.\n",
        "\n"
      ],
      "metadata": {
        "id": "dNFiit7ExpcZ"
      }
    },
    {
      "cell_type": "code",
      "source": [
        " #part B\n",
        "# 1.create a new column  called \"Efficiency\" using this formula\n",
        "#Efficiency =( Maths_score + English_score ) /Hours_studied\n",
        "df['Efficiency'] = (df['Math_score'] + df['English_score']) / df['Hours_studied']\n",
        "df.head()\n",
        "\n",
        "# Remove outliers in 'Efficiency' using IQR\n",
        "Q1 = df['Efficiency'].quantile(0.25)\n",
        "Q3 = df['Efficiency'].quantile(0.75)\n",
        "IQR = Q3 - Q1\n",
        "\n",
        "lower_bound = Q1 - 1.5 * IQR\n",
        "upper_bound = Q3 + 1.5 * IQR\n",
        "\n",
        "# Keep only rows within the IQR bounds\n",
        "df_cleaned = df[(df['Efficiency'] >= lower_bound) & (df['Efficiency'] <= upper_bound)]\n",
        "\n",
        "#Print number of rows removed\n",
        "rows_removed = len(df) - len(df_cleaned)\n",
        "print(\"Rows removed due to outliers in Efficiency\",rows_removed)\n",
        "\n",
        "\n",
        "print(df_cleaned.head())\n"
      ],
      "metadata": {
        "colab": {
          "base_uri": "https://localhost:8080/"
        },
        "id": "VQ_lJC1QsagI",
        "outputId": "7e7f6bbd-2b4d-4863-ed5a-f34f3f8dd1f3"
      },
      "execution_count": null,
      "outputs": [
        {
          "output_type": "stream",
          "name": "stdout",
          "text": [
            "Rows removed due to outliers in Efficiency 2\n",
            "   Hours_studied  Math_score Passed  Gender  ID  English_score  Efficiency\n",
            "0           15.6          57    Yes    Male   1             57    7.307692\n",
            "1           11.4          65    Yes  Female   2             49   10.000000\n",
            "2            6.4          83    Yes    Male   3             77   25.000000\n",
            "3           12.0          73    Yes    Male   4             63   11.333333\n",
            "4            7.1          49    Yes    Male   5             70   16.760563\n"
          ]
        }
      ]
    },
    {
      "cell_type": "code",
      "source": [
        "#part C\n",
        " #  check if there is a statistically significant relation between gender and passed state your conclusion\n",
        "import pandas as pd\n",
        "import scipy.stats as stats\n",
        "\n",
        "# Example: Gender and Passed columns\n",
        "contingency_table = pd.crosstab(df['Gender'], df['Passed'])\n",
        "print(contingency_table)\n"
      ],
      "metadata": {
        "colab": {
          "base_uri": "https://localhost:8080/"
        },
        "id": "wZuxEvpXvYOz",
        "outputId": "4ef8fc20-49f8-444e-9ec9-87ffce9655d8"
      },
      "execution_count": null,
      "outputs": [
        {
          "output_type": "stream",
          "name": "stdout",
          "text": [
            "Passed  No  Yes\n",
            "Gender         \n",
            "Female  14   42\n",
            "Male     7   37\n"
          ]
        }
      ]
    },
    {
      "cell_type": "code",
      "source": [
        "chi2, p, dof, expected = stats.chi2_contingency(contingency_table)\n",
        "\n",
        "print(\"Chi-square value\",chi2)\n",
        "print(\"P-value\",p)\n"
      ],
      "metadata": {
        "colab": {
          "base_uri": "https://localhost:8080/"
        },
        "id": "PraEhR3Mzj3k",
        "outputId": "50fb43e2-1662-4fdc-e02d-9acd950266c1"
      },
      "execution_count": null,
      "outputs": [
        {
          "output_type": "stream",
          "name": "stdout",
          "text": [
            "Chi-square value 0.740647237030601\n",
            "P-value 0.3894536238830808\n"
          ]
        }
      ]
    },
    {
      "cell_type": "code",
      "source": [
        "if p < 0.05:\n",
        "    print(\"There is a statistically significant relation between gender and passed state.\")\n",
        "else:\n",
        "    print(\"There is no statistically significant relation between gender and passed state.\")"
      ],
      "metadata": {
        "colab": {
          "base_uri": "https://localhost:8080/"
        },
        "id": "-h_mduCwz-xS",
        "outputId": "3d6e9ca3-e23f-4f32-ccee-cc31906b106e"
      },
      "execution_count": null,
      "outputs": [
        {
          "output_type": "stream",
          "name": "stdout",
          "text": [
            "There is no statistically significant relation between gender and passed state.\n"
          ]
        }
      ]
    },
    {
      "cell_type": "code",
      "source": [
        "#part D\n",
        "#1.plot a box plot of Efficiencey group by gender\n",
        "import matplotlib.pyplot as plt\n",
        "import seaborn as sns\n",
        "\n",
        "# Create a box plot\n",
        "plt.figure(figsize=(8, 6))\n",
        "sns.boxplot(x='Gender', y='Efficiency', data=df_cleaned)\n",
        "plt.xlabel('Gender')\n",
        "plt.ylabel('Efficiency')\n",
        "plt.title('Box Plot of Efficiency by Gender')\n",
        "plt.show()\n"
      ],
      "metadata": {
        "colab": {
          "base_uri": "https://localhost:8080/",
          "height": 564
        },
        "id": "sQbGlPgNvwvd",
        "outputId": "42731bb8-c941-44bb-e6f6-b22904e1097b"
      },
      "execution_count": null,
      "outputs": [
        {
          "output_type": "display_data",
          "data": {
            "text/plain": [
              "<Figure size 800x600 with 1 Axes>"
            ],
            "image/png": "[encoded data removed]"
          },
          "metadata": {}
        }
      ]
    },
    {
      "cell_type": "markdown",
      "source": [
        "part D\n",
        "2. key observation about how efficiency  differents  between gender based on gender\n",
        "\n",
        "Ans:"
      ],
      "metadata": {
        "id": "m8fA5B8axXqQ"
      }
    },
    {
      "cell_type": "markdown",
      "source": [
        "Females have a slightly higher median efficiency than male.\n",
        "\n",
        "Females efficiency varies more, with more outliers and a wider range.\n"
      ],
      "metadata": {
        "id": "MUOVWvRA1Wbp"
      }
    }
  ]
}